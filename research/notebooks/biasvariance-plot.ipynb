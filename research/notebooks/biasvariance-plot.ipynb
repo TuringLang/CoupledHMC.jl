{
 "cells": [
  {
   "cell_type": "code",
   "execution_count": 1,
   "metadata": {},
   "outputs": [],
   "source": [
    "using DrWatson\n",
    "@quickactivate \"Research\""
   ]
  },
  {
   "cell_type": "code",
   "execution_count": 2,
   "metadata": {},
   "outputs": [],
   "source": [
    "using CoupledHMC"
   ]
  },
  {
   "cell_type": "code",
   "execution_count": 5,
   "metadata": {
    "collapsed": true,
    "jupyter": {
     "outputs_hidden": true
    }
   },
   "outputs": [
    {
     "output_type": "error",
     "ename": "LoadError",
     "evalue": "MethodError: no method matching length(::Missing)\nClosest candidates are:\n  length(!Matched::HTTP.Form) at /afs/inf.ed.ac.uk/user/s16/s1672897/.julia/packages/HTTP/atT5q/src/multipart.jl:21\n  length(!Matched::ExponentialBackOff) at error.jl:259\n  length(!Matched::LibGit2.GitBlob) at /buildworker/worker/package_linux64/build/usr/share/julia/stdlib/v1.5/LibGit2/src/blob.jl:3\n  ...",
     "traceback": [
      "MethodError: no method matching length(::Missing)\nClosest candidates are:\n  length(!Matched::HTTP.Form) at /afs/inf.ed.ac.uk/user/s16/s1672897/.julia/packages/HTTP/atT5q/src/multipart.jl:21\n  length(!Matched::ExponentialBackOff) at error.jl:259\n  length(!Matched::LibGit2.GitBlob) at /buildworker/worker/package_linux64/build/usr/share/julia/stdlib/v1.5/LibGit2/src/blob.jl:3\n  ...",
      "",
      "Stacktrace:",
      " [1] _similar_for(::UnitRange{Int64}, ::Type{Any}, ::Missing, ::Base.HasLength) at ./array.jl:597",
      " [2] _collect(::UnitRange{Int64}, ::Missing, ::Base.HasEltype, ::Base.HasLength) at ./array.jl:630",
      " [3] collect(::Missing) at ./array.jl:624",
      " [4] median(::Missing) at /buildworker/worker/package_linux64/build/usr/share/julia/stdlib/v1.5/Statistics/src/Statistics.jl:836",
      " [5] get_k_m(::Missing, ::Int64; method::Symbol) at /afs/inf.ed.ac.uk/user/s16/s1672897/projects/CoupledHMC.jl/src/analysis.jl:19",
      " [6] top-level scope at In[5]:15",
      " [7] include_string(::Function, ::Module, ::String, ::String) at ./loading.jl:1091"
     ]
    }
   ],
   "source": [
    "function load_data(model, TS)\n",
    "    local τs, chains\n",
    "    try\n",
    "        fname = savename(@ntuple(model, TS), \"bson\"; connector=\"-\")\n",
    "        fpath = projectdir(\"results\", \"biasvariance\", fname)\n",
    "        @unpack τs, chains = load(fpath)\n",
    "    catch\n",
    "        τs, chains = missing, missing\n",
    "    end\n",
    "    return τs, chains\n",
    "end\n",
    "\n",
    "τs, chains = load_data(\"lr\", \"CoupledMultinomialTS{MaximalCoupling}\")\n",
    "\n",
    "k_median,   m_median_5    = get_k_m(τs, 5;  method=:median)\n",
    "k_median,   m_median_10   = get_k_m(τs, 10; method=:median)\n",
    "k_quantile, m_quantile_5  = get_k_m(τs, 5;  method=:quantile)\n",
    "k_quantile, m_quantile_10 = get_k_m(τs, 10; method=:quantile)\n",
    "m_max = max(m_median_10, m_quantile_10)\n",
    "@info \"Using\" k_median m_median_5 m_median_10 k_quantile m_quantile_5 m_quantile_10 m_max"
   ]
  },
  {
   "cell_type": "code",
   "execution_count": 6,
   "metadata": {},
   "outputs": [
    {
     "name": "stderr",
     "output_type": "stream",
     "text": [
      "┌ Info: \n",
      "│   ineff = 94.1435587056798\n",
      "│   cost = 673.63\n",
      "│   v = 0.1397555909114496\n",
      "└ @ Main In[6]:1\n",
      "┌ Info: \n",
      "│   ineff = 63.88811523591547\n",
      "│   cost = 1233.63\n",
      "│   v = 0.05178871722957083\n",
      "└ @ Main In[6]:2\n",
      "┌ Info: \n",
      "│   ineff = 81.80976555760246\n",
      "│   cost = 1068.63\n",
      "│   v = 0.07655574479249362\n",
      "└ @ Main In[6]:3\n",
      "┌ Info: \n",
      "│   ineff = 63.6389213202407\n",
      "│   cost = 2023.63\n",
      "│   v = 0.03144790367816285\n",
      "└ @ Main In[6]:4\n"
     ]
    }
   ],
   "source": [
    "@info \"\" i_of(chains, k_median,   m_median_5)...\n",
    "@info \"\" i_of(chains, k_median,   m_median_10)...\n",
    "@info \"\" i_of(chains, k_quantile, m_quantile_5)...\n",
    "@info \"\" i_of(chains, k_quantile, m_quantile_10)..."
   ]
  },
  {
   "cell_type": "code",
   "execution_count": null,
   "metadata": {},
   "outputs": [],
   "source": []
  }
 ],
 "metadata": {
  "kernelspec": {
   "display_name": "Julia 1.5.0",
   "language": "julia",
   "name": "julia-1.5"
  },
  "language_info": {
   "file_extension": ".jl",
   "mimetype": "application/julia",
   "name": "julia",
   "version": "1.5.0"
  }
 },
 "nbformat": 4,
 "nbformat_minor": 4
}