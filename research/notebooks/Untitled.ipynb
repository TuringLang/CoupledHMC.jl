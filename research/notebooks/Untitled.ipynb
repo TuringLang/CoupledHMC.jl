{
 "cells": [
  {
   "cell_type": "code",
   "execution_count": 1,
   "metadata": {},
   "outputs": [],
   "source": [
    "using DrWatson\n",
    "@quickactivate \"Research\""
   ]
  },
  {
   "cell_type": "code",
   "execution_count": 2,
   "metadata": {},
   "outputs": [
    {
     "name": "stderr",
     "output_type": "stream",
     "text": [
      "┌ Info: Precompiling CoupledHMC [2b235a6e-c7ff-4bf8-b98e-bb5eae5895d5]\n",
      "└ @ Base loading.jl:1278\n",
      "┌ Info: Skipping precompilation since __precompile__(false). Importing CoupledHMC [2b235a6e-c7ff-4bf8-b98e-bb5eae5895d5].\n",
      "└ @ Base loading.jl:1034\n"
     ]
    },
    {
     "data": {
      "text/plain": [
       "Leapfrog(ϵ=[0.3, 0.3])"
      ]
     },
     "execution_count": 2,
     "metadata": {},
     "output_type": "execute_result"
    }
   ],
   "source": []
  },
  {
   "cell_type": "code",
   "execution_count": 3,
   "metadata": {},
   "outputs": [
    {
     "ename": "LoadError",
     "evalue": "UndefVarError: set_refreshment! not defined",
     "output_type": "error",
     "traceback": [
      "UndefVarError: set_refreshment! not defined",
      "",
      "Stacktrace:",
      " [1] top-level scope at In[3]:12",
      " [2] include_string(::Function, ::Module, ::String, ::String) at ./loading.jl:1091"
     ]
    }
   ],
   "source": []
  },
  {
   "cell_type": "code",
   "execution_count": null,
   "metadata": {},
   "outputs": [],
   "source": []
  },
  {
   "cell_type": "code",
   "execution_count": null,
   "metadata": {},
   "outputs": [],
   "source": [
    "length(samples)"
   ]
  }
 ],
 "metadata": {
  "kernelspec": {
   "display_name": "Julia 1.5.0",
   "language": "julia",
   "name": "julia-1.5"
  },
  "language_info": {
   "file_extension": ".jl",
   "mimetype": "application/julia",
   "name": "julia",
   "version": "1.5.0"
  }
 },
 "nbformat": 4,
 "nbformat_minor": 4
}
