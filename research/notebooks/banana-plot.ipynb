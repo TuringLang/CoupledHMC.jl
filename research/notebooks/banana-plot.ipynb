{
 "cells": [
  {
   "cell_type": "code",
   "execution_count": null,
   "metadata": {},
   "outputs": [],
   "source": [
    "using DrWatson\n",
    "@quickactivate \"Research\""
   ]
  },
  {
   "cell_type": "code",
   "execution_count": null,
   "metadata": {},
   "outputs": [],
   "source": [
    "using Statistics, DataFrames"
   ]
  },
  {
   "cell_type": "code",
   "execution_count": null,
   "metadata": {},
   "outputs": [],
   "source": [
    "function load_τs(refreshment, TS)\n",
    "    local τs\n",
    "    try\n",
    "        fname = savename(@ntuple(refreshment, TS), \"bson\"; connector=\"-\")\n",
    "        fpath = projectdir(\"results\", \"banana\", fname)\n",
    "        @unpack τs = load(fpath)\n",
    "    catch\n",
    "        τs = missing\n",
    "    end\n",
    "    return τs\n",
    "end\n",
    "\n",
    "@unpack refreshment_list, TS_list = load(scriptsdir(\"banana-sweep.bson\"))\n",
    "\n",
    "df = DataFrame(Momentum=[], TS=[], m=[], s=[])\n",
    "\n",
    "for refreshment in refreshment_list, TS in TS_list\n",
    "    τs = load_τs(refreshment, TS)\n",
    "    if ismissing(τs)\n",
    "        m = s = missing\n",
    "    else\n",
    "        m, s = round(mean(τs); digits=3), round(std(τs); digits=3)\n",
    "    end\n",
    "    \n",
    "    push!(df, (refreshment, TS, m, s))\n",
    "end\n",
    "\n",
    "df"
   ]
  },
  {
   "cell_type": "code",
   "execution_count": null,
   "metadata": {},
   "outputs": [],
   "source": []
  }
 ],
 "metadata": {
  "kernelspec": {
   "display_name": "Julia 1.5.3",
   "language": "julia",
   "name": "julia-1.5"
  },
  "language_info": {
   "file_extension": ".jl",
   "mimetype": "application/julia",
   "name": "julia",
   "version": "1.5.3"
  }
 },
 "nbformat": 4,
 "nbformat_minor": 4
}
