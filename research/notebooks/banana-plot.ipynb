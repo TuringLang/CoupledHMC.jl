{
 "cells": [
  {
   "cell_type": "code",
   "execution_count": 1,
   "metadata": {},
   "outputs": [],
   "source": [
    "using DrWatson\n",
    "@quickactivate \"Research\""
   ]
  },
  {
   "cell_type": "code",
   "execution_count": 26,
   "metadata": {},
   "outputs": [],
   "source": [
    "using Statistics, DataFrames"
   ]
  },
  {
   "cell_type": "code",
   "execution_count": 35,
   "metadata": {},
   "outputs": [
    {
     "data": {
      "text/html": [
       "<table class=\"data-frame\"><thead><tr><th></th><th>Momentum</th><th>TS</th><th>m</th><th>s</th></tr><tr><th></th><th>Any</th><th>Any</th><th>Any</th><th>Any</th></tr></thead><tbody><p>10 rows × 4 columns</p><tr><th>1</th><td>shared</td><td>MetropolisTS</td><td>136.58</td><td>95.768</td></tr><tr><th>2</th><td>shared</td><td>CoupledMultinomialTS{QuantileCoupling}</td><td>109.946</td><td>80.026</td></tr><tr><th>3</th><td>shared</td><td>CoupledMultinomialTS{MaximalCoupling}</td><td>112.438</td><td>74.931</td></tr><tr><th>4</th><td>shared</td><td>CoupledMultinomialTS{OTCoupling}</td><td>102.752</td><td>76.506</td></tr><tr><th>5</th><td>shared</td><td>CoupledMultinomialTS{ApproximateOTCoupling}</td><td>98.324</td><td>62.162</td></tr><tr><th>6</th><td>contractive</td><td>MetropolisTS</td><td>39.732</td><td>18.874</td></tr><tr><th>7</th><td>contractive</td><td>CoupledMultinomialTS{QuantileCoupling}</td><td>82.67</td><td>59.632</td></tr><tr><th>8</th><td>contractive</td><td>CoupledMultinomialTS{MaximalCoupling}</td><td>81.328</td><td>56.288</td></tr><tr><th>9</th><td>contractive</td><td>CoupledMultinomialTS{OTCoupling}</td><td>77.194</td><td>48.108</td></tr><tr><th>10</th><td>contractive</td><td>CoupledMultinomialTS{ApproximateOTCoupling}</td><td>456.626</td><td>112.035</td></tr></tbody></table>"
      ],
      "text/latex": [
       "\\begin{tabular}{r|cccc}\n",
       "\t& Momentum & TS & m & s\\\\\n",
       "\t\\hline\n",
       "\t& Any & Any & Any & Any\\\\\n",
       "\t\\hline\n",
       "\t1 & shared & MetropolisTS & 136.58 & 95.768 \\\\\n",
       "\t2 & shared & CoupledMultinomialTS\\{QuantileCoupling\\} & 109.946 & 80.026 \\\\\n",
       "\t3 & shared & CoupledMultinomialTS\\{MaximalCoupling\\} & 112.438 & 74.931 \\\\\n",
       "\t4 & shared & CoupledMultinomialTS\\{OTCoupling\\} & 102.752 & 76.506 \\\\\n",
       "\t5 & shared & CoupledMultinomialTS\\{ApproximateOTCoupling\\} & 98.324 & 62.162 \\\\\n",
       "\t6 & contractive & MetropolisTS & 39.732 & 18.874 \\\\\n",
       "\t7 & contractive & CoupledMultinomialTS\\{QuantileCoupling\\} & 82.67 & 59.632 \\\\\n",
       "\t8 & contractive & CoupledMultinomialTS\\{MaximalCoupling\\} & 81.328 & 56.288 \\\\\n",
       "\t9 & contractive & CoupledMultinomialTS\\{OTCoupling\\} & 77.194 & 48.108 \\\\\n",
       "\t10 & contractive & CoupledMultinomialTS\\{ApproximateOTCoupling\\} & 456.626 & 112.035 \\\\\n",
       "\\end{tabular}\n"
      ],
      "text/plain": [
       "10×4 DataFrame. Omitted printing of 1 columns\n",
       "│ Row │ Momentum    │ TS                                          │ m       │\n",
       "│     │ \u001b[90mAny\u001b[39m         │ \u001b[90mAny\u001b[39m                                         │ \u001b[90mAny\u001b[39m     │\n",
       "├─────┼─────────────┼─────────────────────────────────────────────┼─────────┤\n",
       "│ 1   │ shared      │ MetropolisTS                                │ 136.58  │\n",
       "│ 2   │ shared      │ CoupledMultinomialTS{QuantileCoupling}      │ 109.946 │\n",
       "│ 3   │ shared      │ CoupledMultinomialTS{MaximalCoupling}       │ 112.438 │\n",
       "│ 4   │ shared      │ CoupledMultinomialTS{OTCoupling}            │ 102.752 │\n",
       "│ 5   │ shared      │ CoupledMultinomialTS{ApproximateOTCoupling} │ 98.324  │\n",
       "│ 6   │ contractive │ MetropolisTS                                │ 39.732  │\n",
       "│ 7   │ contractive │ CoupledMultinomialTS{QuantileCoupling}      │ 82.67   │\n",
       "│ 8   │ contractive │ CoupledMultinomialTS{MaximalCoupling}       │ 81.328  │\n",
       "│ 9   │ contractive │ CoupledMultinomialTS{OTCoupling}            │ 77.194  │\n",
       "│ 10  │ contractive │ CoupledMultinomialTS{ApproximateOTCoupling} │ 456.626 │"
      ]
     },
     "execution_count": 35,
     "metadata": {},
     "output_type": "execute_result"
    }
   ],
   "source": [
    "function load_τs(refreshment, TS)\n",
    "    local τs\n",
    "    try\n",
    "        fname = savename(@ntuple(refreshment, TS), \"bson\"; connector=\"-\")\n",
    "        fpath = projectdir(\"results\", \"banana\", fname)\n",
    "        @unpack τs = load(fpath)\n",
    "    catch\n",
    "        τs = missing\n",
    "    end\n",
    "    return τs\n",
    "end\n",
    "\n",
    "@unpack refreshment_list, TS_list = load(scriptsdir(\"banana-sweep.bson\"))\n",
    "\n",
    "df = DataFrame(Momentum=[], TS=[], m=[], s=[])\n",
    "\n",
    "for refreshment in refreshment_list, TS in TS_list\n",
    "    τs = load_τs(refreshment, TS)\n",
    "    if ismissing(τs)\n",
    "        m = s = missing\n",
    "    else\n",
    "        m, s = round(mean(τs); digits=3), round(std(τs); digits=3)\n",
    "    end\n",
    "    \n",
    "    push!(df, (refreshment, TS, m, s))\n",
    "end\n",
    "\n",
    "df"
   ]
  },
  {
   "cell_type": "code",
   "execution_count": null,
   "metadata": {},
   "outputs": [],
   "source": []
  }
 ],
 "metadata": {
  "kernelspec": {
   "display_name": "Julia 1.5.0",
   "language": "julia",
   "name": "julia-1.5"
  },
  "language_info": {
   "file_extension": ".jl",
   "mimetype": "application/julia",
   "name": "julia",
   "version": "1.5.0"
  }
 },
 "nbformat": 4,
 "nbformat_minor": 4
}
