{
 "cells": [
  {
   "cell_type": "code",
   "execution_count": 2,
   "metadata": {},
   "outputs": [],
   "source": [
    "using DrWatson\n",
    "@quickactivate \"Research\""
   ]
  },
  {
   "cell_type": "code",
   "execution_count": 10,
   "metadata": {},
   "outputs": [
    {
     "name": "stderr",
     "output_type": "stream",
     "text": [
      "┌ Info: System\n",
      "│   Threads.nthreads() = 10\n",
      "└ @ Main In[10]:3\n"
     ]
    }
   ],
   "source": [
    "using ProgressMeter, CoupledHMC, VecTarget\n",
    "\n",
    "@info \"System\" Threads.nthreads()"
   ]
  },
  {
   "cell_type": "code",
   "execution_count": 11,
   "metadata": {},
   "outputs": [
    {
     "data": {
      "text/plain": [
       "(dim = 2, logdensity = VecTarget.var\"#logdensity#17\"{VecTarget.GaussianMixtures{Array{Float64,1},MLToolkit.DistributionsX.BroadcastedNormalStd{Float64,Array{Float64,2},Array{Float64,1}}}}(VecTarget.GaussianMixtures{Array{Float64,1},MLToolkit.DistributionsX.BroadcastedNormalStd{Float64,Array{Float64,2},Array{Float64,1}}}([0.25, 0.4, 0.35], MLToolkit.DistributionsX.BroadcastedNormalStd{Float64,Array{Float64,2},Array{Float64,1}}(\n",
       "m: [-1.0 0.0 1.0; -1.0 0.0 1.0]\n",
       "s: [0.25]\n",
       ")\n",
       ")), get_grad = VecTarget.var\"#16#18\"{VecTarget.var\"#logdensity#17\"{VecTarget.GaussianMixtures{Array{Float64,1},MLToolkit.DistributionsX.BroadcastedNormalStd{Float64,Array{Float64,2},Array{Float64,1}}}}}(VecTarget.var\"#logdensity#17\"{VecTarget.GaussianMixtures{Array{Float64,1},MLToolkit.DistributionsX.BroadcastedNormalStd{Float64,Array{Float64,2},Array{Float64,1}}}}(VecTarget.GaussianMixtures{Array{Float64,1},MLToolkit.DistributionsX.BroadcastedNormalStd{Float64,Array{Float64,2},Array{Float64,1}}}([0.25, 0.4, 0.35], MLToolkit.DistributionsX.BroadcastedNormalStd{Float64,Array{Float64,2},Array{Float64,1}}(\n",
       "m: [-1.0 0.0 1.0; -1.0 0.0 1.0]\n",
       "s: [0.25]\n",
       ")\n",
       "))))"
      ]
     },
     "execution_count": 11,
     "metadata": {},
     "output_type": "execute_result"
    }
   ],
   "source": [
    "target = get_target(TwoDimGaussianMixtures())"
   ]
  },
  {
   "cell_type": "code",
   "execution_count": 12,
   "metadata": {},
   "outputs": [
    {
     "name": "stderr",
     "output_type": "stream",
     "text": [
      "┌ Info: Args\n",
      "│   n_mc = 500\n",
      "│   n_samples_max = 100\n",
      "│   γ = 0.05\n",
      "│   σ = 0.001\n",
      "└ @ Main In[12]:16\n"
     ]
    }
   ],
   "source": [
    "args = (\n",
    "    n_mc = 500,\n",
    "    n_samples_max = 100,\n",
    "#     TS_list = [\n",
    "#         EndPointTS,\n",
    "#         MultinomialTS,\n",
    "#         ContractiveMultinomialTS{OT},\n",
    "#         ContractiveMultinomialTS{Pairing},\n",
    "#     ],\n",
    "#     ϵinc_list = [(ϵ, 10) for ϵ in collect(0.1:0.05:0.3)],\n",
    "#     Linc_list = [(0.1, L) for L in collect(10:5:30)],\n",
    "    γ = 1/20,\n",
    "    σ = 1e-3,\n",
    ")\n",
    "\n",
    "@info \"Args\" args...\n"
   ]
  },
  {
   "cell_type": "code",
   "execution_count": 13,
   "metadata": {},
   "outputs": [
    {
     "name": "stderr",
     "output_type": "stream",
     "text": [
      "\u001b[32mProgress: 100%|█████████████████████████████████████████| Time: 0:00:19\u001b[39m\n",
      "┌ Info: Efficiency: 0.636\n",
      "└ @ Main In[13]:12\n"
     ]
    }
   ],
   "source": [
    "function run_gmm(TS, ϵ, L)\n",
    "    alg = CoupledHMCSampler(rinit=rand, TS=TS, ϵ=ϵ, L=L, γ=args.γ, σ=args.σ)\n",
    "    does_meets = Vector{Bool}(undef, args.n_mc)\n",
    "    progress = Progress(args.n_mc)\n",
    "    Threads.@threads for i in 1:args.n_mc\n",
    "        samples = sample_until_meeting(target, alg; n_samples_max=args.n_samples_max)\n",
    "        does_meets[i] = does_meet(samples[end])\n",
    "        next!(progress)\n",
    "    end \n",
    "    n_meeting = sum(does_meets)\n",
    "    efficiency = round(n_meeting / args.n_mc; digits=3)\n",
    "    @info \"Efficiency: $efficiency\"\n",
    "    \n",
    "#     wsave(projectdir(\"neurips_2020\", \"gmm.bson\"), @dict(args, results))\n",
    "end\n",
    "\n",
    "run_gmm(EndPointTS, 0.1, 10)"
   ]
  },
  {
   "cell_type": "code",
   "execution_count": null,
   "metadata": {},
   "outputs": [],
   "source": []
  }
 ],
 "metadata": {
  "kernelspec": {
   "display_name": "Julia 1.5.0",
   "language": "julia",
   "name": "julia-1.5"
  },
  "language_info": {
   "file_extension": ".jl",
   "mimetype": "application/julia",
   "name": "julia",
   "version": "1.5.0"
  }
 },
 "nbformat": 4,
 "nbformat_minor": 4
}
