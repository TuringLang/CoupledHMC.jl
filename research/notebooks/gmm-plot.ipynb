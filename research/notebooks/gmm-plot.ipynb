{
 "cells": [
  {
   "cell_type": "code",
   "execution_count": null,
   "metadata": {},
   "outputs": [],
   "source": [
    "using DrWatson\n",
    "@quickactivate \"Research\""
   ]
  },
  {
   "cell_type": "code",
   "execution_count": null,
   "metadata": {},
   "outputs": [],
   "source": [
    "using Plots, LaTeXStrings\n",
    "gr()\n",
    "theme(:bright)"
   ]
  },
  {
   "cell_type": "code",
   "execution_count": null,
   "metadata": {},
   "outputs": [],
   "source": [
    "function load_efficiency(TS, epsilon, L)\n",
    "    local efficiency\n",
    "    try\n",
    "        fname = savename(@ntuple(TS, epsilon, L), \"bson\"; connector=\"-\")\n",
    "        fpath = projectdir(\"results\", \"gmm\", fname)\n",
    "        @unpack efficiency = load(fpath)\n",
    "    catch\n",
    "        efficiency = missing\n",
    "    end\n",
    "    return efficiency\n",
    "end\n",
    "\n",
    "@unpack TS_list, epsilon_inc_list, L_inc_list = load(scriptsdir(\"gmm-sweep.bson\"))\n",
    "\n",
    "results_epsilon_inc, results_inc_L = Dict(), Dict()\n",
    "for TS in TS_list\n",
    "    # Collect results from increasing step size\n",
    "    efficiency_list = []\n",
    "    for (epsilon, L) in epsilon_inc_list\n",
    "        push!(efficiency_list, load_efficiency(TS, epsilon, L))\n",
    "    end\n",
    "    results_epsilon_inc[TS] = efficiency_list\n",
    "    # Collect results from increasing step number\n",
    "    efficiency_list = []\n",
    "    for (epsilon, L) in L_inc_list\n",
    "        push!(efficiency_list, load_efficiency(TS, epsilon, L))\n",
    "    end\n",
    "    results_inc_L[TS] = efficiency_list\n",
    "end"
   ]
  },
  {
   "cell_type": "code",
   "execution_count": null,
   "metadata": {},
   "outputs": [],
   "source": [
    "p = plot(size=(400, 200))\n",
    "\n",
    "length_list = prod.(epsilon_inc_list)\n",
    "@assert all(length_list .== prod.(L_inc_list))\n",
    "label_list = [\"Metropolis\", \"Quantile\", \"Maximal\", L\"W_2\", \"Approx. OT\"]\n",
    "marker_list = [:vline, :diamond, :star, :circle, :rect]\n",
    "color_list = [1, 2, 3, 4, 5]\n",
    "kwargs_shared = (markersize = 3, markeralpha = 0.7, alpha = 0.7)\n",
    "\n",
    "skips = [\"Quantile\", \"Approx. OT\"]\n",
    "\n",
    "for (TS, label, marker, color) in zip(TS_list, label_list, marker_list, color_list)\n",
    "    if label in skips\n",
    "        continue\n",
    "    end\n",
    "    if any(ismissing.(results_epsilon_inc[TS]))\n",
    "        continue\n",
    "    else\n",
    "        plot!(\n",
    "            p, length_list, results_epsilon_inc[TS]; \n",
    "            label=label, style=:solid, marker=marker, color=color, kwargs_shared...\n",
    "        )\n",
    "    end\n",
    "    if any(ismissing.(results_inc_L[TS]))\n",
    "        continue\n",
    "    else\n",
    "        plot!(\n",
    "            p, length_list, results_inc_L[TS]; \n",
    "            label=nothing, style=:dash, marker=marker, color=color, kwargs_shared...\n",
    "        )\n",
    "    end\n",
    "end\n",
    "ylims!(0, 1)\n",
    "\n",
    "savefig(p, projectdir(\"plots\", \"gmm.png\"))\n",
    "savefig(p, projectdir(\"plots\", \"gmm.pdf\"))\n",
    "# savefig(p, projectdir(\"plots\", \"gmm.tex\"))\n",
    "\n",
    "p"
   ]
  },
  {
   "cell_type": "code",
   "execution_count": null,
   "metadata": {},
   "outputs": [],
   "source": []
  }
 ],
 "metadata": {
  "kernelspec": {
   "display_name": "Julia 1.5.3",
   "language": "julia",
   "name": "julia-1.5"
  },
  "language_info": {
   "file_extension": ".jl",
   "mimetype": "application/julia",
   "name": "julia",
   "version": "1.5.3"
  }
 },
 "nbformat": 4,
 "nbformat_minor": 4
}
